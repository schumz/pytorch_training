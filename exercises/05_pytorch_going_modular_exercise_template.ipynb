{
  "cells": [
    {
      "attachments": {},
      "cell_type": "markdown",
      "metadata": {
        "colab_type": "text",
        "id": "view-in-github"
      },
      "source": [
        "<a href=\"https://colab.research.google.com/github/mrdbourke/pytorch-deep-learning/blob/main/extras/exercises/05_pytorch_going_modular_exercise_template.ipynb\" target=\"_parent\"><img src=\"https://colab.research.google.com/assets/colab-badge.svg\" alt=\"Open In Colab\"/></a>"
      ]
    },
    {
      "attachments": {},
      "cell_type": "markdown",
      "metadata": {
        "id": "zNqPNlYylluR"
      },
      "source": [
        "# 05. PyTorch Going Modular Exercises\n",
        "\n",
        "Welcome to the 05. PyTorch Going Modular exercise template notebook.\n",
        "\n",
        "There are several questions in this notebook and it's your goal to answer them by writing Python and PyTorch code.\n",
        "\n",
        "> **Note:** There may be more than one solution to each of the exercises, don't worry too much about the *exact* right answer. Try to write some code that works first and then improve it if you can.\n",
        "\n",
        "## Resources and solutions\n",
        "\n",
        "* These exercises/solutions are based on [section 05. PyTorch Going Modular](https://www.learnpytorch.io/05_pytorch_going_modular/) of the Learn PyTorch for Deep Learning course by Zero to Mastery.\n",
        "\n",
        "**Solutions:** \n",
        "\n",
        "Try to complete the code below *before* looking at these.\n",
        "\n",
        "* See a live [walkthrough of the solutions (errors and all) on YouTube](https://youtu.be/ijgFhMK3pp4).\n",
        "* See an example [solutions notebook for these exercises on GitHub](https://github.com/mrdbourke/pytorch-deep-learning/blob/main/extras/solutions/05_pytorch_going_modular_exercise_solutions.ipynb)."
      ]
    },
    {
      "attachments": {},
      "cell_type": "markdown",
      "metadata": {
        "id": "bicbWSrPmfTU"
      },
      "source": [
        "## 1. Turn the code to get the data (from section 1. Get Data) into a Python script, such as `get_data.py`.\n",
        "\n",
        "* When you run the script using `python get_data.py` it should check if the data already exists and skip downloading if it does.\n",
        "* If the data download is successful, you should be able to access the `pizza_steak_sushi` images from the `data` directory."
      ]
    },
    {
      "cell_type": "code",
      "execution_count": 2,
      "metadata": {
        "id": "r0BCn1XIYZ8c"
      },
      "outputs": [],
      "source": [
        "\n",
        "\n",
        "# YOUR CODE HERE\n",
        "from pathlib import Path\n",
        "import zipfile\n",
        "import requests\n",
        "import os\n",
        "\n",
        "data_path= Path(\"data\")\n",
        "images_path = data_path /\"pizza_steak_sushi\"\n",
        "\n",
        "images_path.mkdir(parents=True, exist_ok=True)\n",
        "\n",
        "\n",
        "with open(data_path/\"pizza_steak_sushi.zip\",\"wb\") as f:\n",
        "    requete= requests.get(\"https://github.com/mrdbourke/pytorch-deep-learning/raw/main/data/pizza_steak_sushi.zip\")\n",
        "    f.write(requete.content)\n",
        "\n",
        "with zipfile.ZipFile(data_path/\"pizza_steak_sushi.zip\",\"r\") as f:\n",
        "    f.extractall(images_path)\n",
        "\n",
        "os.remove(data_path/\"pizza_steak_sushi.zip\")"
      ]
    },
    {
      "cell_type": "code",
      "execution_count": null,
      "metadata": {
        "id": "_LrUOIC-YOP9"
      },
      "outputs": [],
      "source": [
        "# Example running of get_data.py\n",
        "!python get_data.py"
      ]
    },
    {
      "attachments": {},
      "cell_type": "markdown",
      "metadata": {
        "id": "zjyn7LU3mvkR"
      },
      "source": [
        "## 2. Use [Python's `argparse` module](https://docs.python.org/3/library/argparse.html) to be able to send the `train.py` custom hyperparameter values for training procedures.\n",
        "* Add an argument flag for using a different:\n",
        "  * Training/testing directory\n",
        "  * Learning rate\n",
        "  * Batch size\n",
        "  * Number of epochs to train for\n",
        "  * Number of hidden units in the TinyVGG model\n",
        "    * Keep the default values for each of the above arguments as what they already are (as in notebook 05).\n",
        "* For example, you should be able to run something similar to the following line to train a TinyVGG model with a learning rate of 0.003 and a batch size of 64 for 20 epochs: `python train.py --learning_rate 0.003 batch_size 64 num_epochs 20`.\n",
        "* **Note:** Since `train.py` leverages the other scripts we created in section 05, such as, `model_builder.py`, `utils.py` and `engine.py`, you'll have to make sure they're available to use too. You can find these in the [`going_modular` folder on the course GitHub](https://github.com/mrdbourke/pytorch-deep-learning/tree/main/going_modular/going_modular). "
      ]
    },
    {
      "cell_type": "code",
      "execution_count": 14,
      "metadata": {
        "id": "MKNDUp45YaW-"
      },
      "outputs": [
        {
          "name": "stdout",
          "output_type": "stream",
          "text": [
            "Writing make_dataloader.py\n"
          ]
        }
      ],
      "source": [
        "%%writefile make_dataloader.py\n",
        "\n",
        "###Préparation des datasets\n",
        "from torch.utils.data import DataLoader\n",
        "from torchvision import datasets, transforms\n",
        "import torch\n",
        "\n",
        "train_path=images_path / \"train\"\n",
        "test_path=images_path/ \"test\"\n",
        "\n",
        "\n",
        "def make_dataloader(train_path,test_path,transformer,batch_size):\n",
        "\n",
        "\n",
        "    trainset = datasets.ImageFolder(root=train_path,\n",
        "                                    transform=transformer)\n",
        "    \n",
        "    testset = datasets.ImageFolder(root=test_path,\n",
        "                                    transform=transformer)\n",
        "    \n",
        "\n",
        "    train_dl=DataLoader(dataset=trainset,\n",
        "                        batch_size=batch_size,\n",
        "                        shuffle=True,\n",
        "                        num_workers=os.cpu_count())\n",
        "    \n",
        "    test_dl=DataLoader(dataset=testset,\n",
        "                        batch_size=batch_size,\n",
        "                        shuffle=True,\n",
        "                        num_workers=os.cpu_count())\n",
        "    \n",
        "    return train_dl, test_dl\n",
        "\n",
        "from torch import nn\n",
        "import torch.utils.data"
      ]
    },
    {
      "cell_type": "code",
      "execution_count": 11,
      "metadata": {},
      "outputs": [
        {
          "name": "stdout",
          "output_type": "stream",
          "text": [
            "Writing train_modele.py\n"
          ]
        }
      ],
      "source": [
        "%%writefile train_modele.py\n",
        "\n",
        "def train_step(model:nn.Module,loss_fn:nn.Module,optimizer:torch.optim,device,dataloader:torch.utils.data.DataLoader):\n",
        "\n",
        "    model.train()\n",
        "    \n",
        "    train_loss = 0\n",
        "    train_acc = 0\n",
        "\n",
        "\n",
        "    for batch, (x,y) in enumerate(dataloader):\n",
        "        x = x.to(device)\n",
        "        y = y.to(device)\n",
        "\n",
        "        pred = model(x)\n",
        "\n",
        "        loss=loss_fn(pred,y)\n",
        "        train_loss += loss.item()\n",
        "\n",
        "        optimizer.zero_grad()\n",
        "\n",
        "        loss.backward()\n",
        "\n",
        "        optimizer.step()\n",
        "\n",
        "        pred_label = torch.argmax(torch.softmax(pred,dim=1),dim=1)\n",
        "        train_acc += (pred_label == y).sum().item()/len(pred)\n",
        "\n",
        "    train_loss = train_loss /len(dataloader)\n",
        "    train_acc = train_acc / len(dataloader)\n",
        "\n",
        "    return train_loss, train_acc\n",
        "\n",
        "\n",
        "def test_step(model:nn.Module,loss_fn,device,dataloader):\n",
        "\n",
        "    model.eval()\n",
        "    test_loss=0\n",
        "    test_acc=0\n",
        "\n",
        "    with torch.inference_mode():\n",
        "        for batch, (x,y) in enumerate(dataloader):\n",
        "            x = x.to(device)\n",
        "            y = y.to(device)\n",
        "\n",
        "            pred = model(x)\n",
        "\n",
        "            loss = loss_fn(pred,y)\n",
        "            test_loss += loss.item()\n",
        "            \n",
        "            label = torch.argmax(torch.softmax(pred,dim=1),dim=1)\n",
        "            test_acc += (label == y).sum().item()/len(pred)\n",
        "\n",
        "    test_loss = test_loss/len(dataloader)\n",
        "    test_acc = test_acc/len(dataloader)\n",
        "\n",
        "    return test_loss, test_acc\n",
        "\n",
        "\n",
        "def train(model,train_dataloader,test_dataloader,device,optimizer,loss_fn,epochs):\n",
        "\n",
        "    from tqdm.auto import tqdm\n",
        "    for epoch in tqdm(range(epochs)):\n",
        "\n",
        "        results={\"train_loss\": [],\n",
        "               \"train_acc\": [],\n",
        "               \"test_loss\": [],\n",
        "               \"test_acc\": []}\n",
        "\n",
        "        train_loss,train_acc=train_step(model=model,\n",
        "                                        dataloader=train_dataloader,\n",
        "                                        device=device,\n",
        "                                        loss_fn=loss_fn,\n",
        "                                        optimizer=optimizer)\n",
        "        \n",
        "        test_loss, test_acc=test_step(model=model,\n",
        "                                      loss_fn=loss_fn,\n",
        "                                      device=device,\n",
        "                                      dataloader=test_dataloader,\n",
        "                                      )\n",
        "        \n",
        "\n",
        "        print(\n",
        "          f\"Epoch: {epoch+1} | \"\n",
        "          f\"train_loss: {train_loss:.4f} | \"\n",
        "          f\"train_acc: {train_acc:.4f} | \"\n",
        "          f\"test_loss: {test_loss:.4f} | \"\n",
        "          f\"test_acc: {test_acc:.4f}\"\n",
        "        )\n",
        "\n",
        "        # Update results dictionary\n",
        "        results[\"train_loss\"].append(train_loss)\n",
        "        results[\"train_acc\"].append(train_acc)\n",
        "        results[\"test_loss\"].append(test_loss)\n",
        "        results[\"test_acc\"].append(test_acc)\n",
        "\n",
        "\n",
        "    return results"
      ]
    },
    {
      "cell_type": "code",
      "execution_count": 10,
      "metadata": {},
      "outputs": [
        {
          "name": "stdout",
          "output_type": "stream",
          "text": [
            "Writing tinyvgg.py\n"
          ]
        }
      ],
      "source": [
        "%%writefile tinyvgg.py\n",
        "\n",
        "import torch\n",
        "from torch import nn \n",
        "\n",
        "class TinyVGG(nn.Module):\n",
        "    \"\"\"Creates the TinyVGG architecture.\n",
        "    Replicates the TinyVGG architecture from the CNN explainer website in PyTorch.\n",
        "    See the original architecture here: https://poloclub.github.io/cnn-explainer/\n",
        "    Args:\n",
        "    input_shape: An integer indicating number of input channels.\n",
        "    hidden_units: An integer indicating number of hidden units between layers.\n",
        "    output_shape: An integer indicating number of output units.\n",
        "    \"\"\"\n",
        "    def __init__(self, input_shape: int, hidden_units: int, output_shape: int) -> None:\n",
        "        super().__init__()\n",
        "\n",
        "        self.conv_block_1 = nn.Sequential(\n",
        "          nn.Conv2d(in_channels=input_shape, \n",
        "                    out_channels=hidden_units, \n",
        "                    kernel_size=3, \n",
        "                    stride=1, \n",
        "                    padding=0),  \n",
        "          nn.ReLU(),\n",
        "          nn.Conv2d(in_channels=hidden_units, \n",
        "                    out_channels=hidden_units,\n",
        "                    kernel_size=3,\n",
        "                    stride=1,\n",
        "                    padding=0),\n",
        "          nn.ReLU(),\n",
        "          nn.MaxPool2d(kernel_size=2,\n",
        "                        stride=2)\n",
        "        )\n",
        "        self.conv_block_2 = nn.Sequential(\n",
        "          nn.Conv2d(hidden_units, hidden_units, kernel_size=3, padding=0),\n",
        "          nn.ReLU(),\n",
        "          nn.Conv2d(hidden_units, hidden_units, kernel_size=3, padding=0),\n",
        "          nn.ReLU(),\n",
        "          nn.MaxPool2d(2)\n",
        "        )\n",
        "        self.classifier = nn.Sequential(\n",
        "          nn.Flatten(),\n",
        "          # Where did this in_features shape come from? \n",
        "          # It's because each layer of our network compresses and changes the shape of our inputs data.\n",
        "          nn.Linear(in_features=hidden_units*13*13,\n",
        "                    out_features=output_shape)\n",
        "        )\n",
        "    \n",
        "    def forward(self, x: torch.Tensor):\n",
        "        return self.classifier(self.block_2(self.block_1(x))) # <- leverage the benefits of operator fusion\n"
      ]
    },
    {
      "cell_type": "code",
      "execution_count": 9,
      "metadata": {},
      "outputs": [
        {
          "name": "stdout",
          "output_type": "stream",
          "text": [
            "Writing savefile.py\n"
          ]
        }
      ],
      "source": [
        "%%writefile savefile.py\n",
        "\n",
        "def save_model(model:nn.Module,nom_modele):\n",
        "\n",
        "    models_path=Path(\"D:\\Adam\\Pytorch\\exercises\")\n",
        "    nom_du_modele = nom_modele.pt\n",
        "\n",
        "    model_path=models_path/nom_du_modele\n",
        "\n",
        "    torch.save(obj=model.state_dict(),f=model_path)"
      ]
    },
    {
      "attachments": {},
      "cell_type": "markdown",
      "metadata": {
        "id": "P2g6EEYvm-46"
      },
      "source": [
        "## 3. Create a Python script to predict (such as `predict.py`) on a target image given a file path with a saved model.\n",
        "\n",
        "* For example, you should be able to run the command `python predict.py some_image.jpeg` and have a trained PyTorch model predict on the image and return its prediction.\n",
        "* To see example prediction code, check out the [predicting on a custom image section in notebook 04](https://www.learnpytorch.io/04_pytorch_custom_datasets/#113-putting-custom-image-prediction-together-building-a-function). \n",
        "* You may also have to write code to load in a trained model."
      ]
    },
    {
      "cell_type": "code",
      "execution_count": null,
      "metadata": {
        "id": "HU7W6VZfYawP"
      },
      "outputs": [],
      "source": [
        "# YOUR CODE HERE"
      ]
    },
    {
      "cell_type": "code",
      "execution_count": null,
      "metadata": {
        "id": "Zcvw9sitIn6r"
      },
      "outputs": [],
      "source": [
        "# Example running of predict.py \n",
        "!python predict.py --image data/pizza_steak_sushi/test/sushi/175783.jpg"
      ]
    }
  ],
  "metadata": {
    "accelerator": "GPU",
    "colab": {
      "authorship_tag": "ABX9TyNcX0JATB1YsaAFGNe0TGWq",
      "collapsed_sections": [],
      "include_colab_link": true,
      "name": "05_pytorch_going_modular_exercise_template.ipynb",
      "provenance": []
    },
    "kernelspec": {
      "display_name": "Python 3",
      "name": "python3"
    },
    "language_info": {
      "codemirror_mode": {
        "name": "ipython",
        "version": 3
      },
      "file_extension": ".py",
      "mimetype": "text/x-python",
      "name": "python",
      "nbconvert_exporter": "python",
      "pygments_lexer": "ipython3",
      "version": "3.9.0"
    }
  },
  "nbformat": 4,
  "nbformat_minor": 0
}
